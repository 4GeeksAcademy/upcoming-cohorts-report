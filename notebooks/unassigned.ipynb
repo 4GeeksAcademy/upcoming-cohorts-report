{
 "cells": [
  {
   "cell_type": "code",
   "execution_count": 1,
   "metadata": {},
   "outputs": [],
   "source": [
    "%%capture\n",
    "pip install numpy pandas"
   ]
  },
  {
   "cell_type": "code",
   "execution_count": 2,
   "metadata": {},
   "outputs": [],
   "source": [
    "import numpy as np\n",
    "import pandas as pd"
   ]
  },
  {
   "cell_type": "code",
   "execution_count": 3,
   "metadata": {},
   "outputs": [],
   "source": [
    "form_entry = pd.read_csv('../output/form_entry_processed.csv', low_memory=False)"
   ]
  },
  {
   "cell_type": "code",
   "execution_count": 4,
   "metadata": {},
   "outputs": [],
   "source": [
    "form_entry = form_entry[form_entry['to_drop']==0]"
   ]
  },
  {
   "cell_type": "code",
   "execution_count": 5,
   "metadata": {},
   "outputs": [
    {
     "data": {
      "text/plain": [
       "LOST    17494\n",
       "WON       202\n",
       "Name: deal_status, dtype: int64"
      ]
     },
     "execution_count": 5,
     "metadata": {},
     "output_type": "execute_result"
    }
   ],
   "source": [
    "form_entry['deal_status'].value_counts()"
   ]
  },
  {
   "cell_type": "code",
   "execution_count": 6,
   "metadata": {},
   "outputs": [],
   "source": [
    "not_lost_or_won = form_entry[(form_entry['deal_status']!='LOST') & (form_entry['deal_status']!='WON')]"
   ]
  },
  {
   "cell_type": "code",
   "execution_count": 7,
   "metadata": {},
   "outputs": [],
   "source": [
    "unassigned = not_lost_or_won[not_lost_or_won['ac_expected_cohort'].isnull()]"
   ]
  },
  {
   "cell_type": "code",
   "execution_count": 8,
   "metadata": {},
   "outputs": [],
   "source": [
    "unassigned = unassigned[unassigned['email'].str.contains('@4geeks') == False]"
   ]
  },
  {
   "cell_type": "code",
   "execution_count": 9,
   "metadata": {},
   "outputs": [
    {
     "data": {
      "text/plain": [
       "40158"
      ]
     },
     "execution_count": 9,
     "metadata": {},
     "output_type": "execute_result"
    }
   ],
   "source": [
    "len(unassigned)"
   ]
  },
  {
   "cell_type": "code",
   "execution_count": 10,
   "metadata": {},
   "outputs": [
    {
     "data": {
      "text/plain": [
       "STRONG    77\n",
       "SOFT      65\n",
       "Name: lead_type, dtype: int64"
      ]
     },
     "execution_count": 10,
     "metadata": {},
     "output_type": "execute_result"
    }
   ],
   "source": [
    "unassigned['lead_type'].value_counts()"
   ]
  },
  {
   "cell_type": "code",
   "execution_count": 11,
   "metadata": {},
   "outputs": [],
   "source": [
    "unassigned.loc[unassigned['tags'] == 'request_more_info', 'lead_type'] = 'SOFT'\n",
    "unassigned.loc[unassigned['tags'] == 'website-lead', 'lead_type'] = 'STRONG'\n",
    "unassigned.loc[unassigned['tags'] == 'newsletter', 'lead_type'] = 'DISCOVERY'\n",
    "unassigned.loc[unassigned['tags'] == 'contact-us', 'lead_type'] = 'SOFT'\n",
    "unassigned.loc[unassigned['tags'] == 'utec-uruguay', 'lead_type'] = 'STRONG'\n",
    "unassigned.loc[unassigned['tags'] == 'jobboard-lead', 'lead_type'] = 'STRONG'\n",
    "unassigned.loc[unassigned['tags'] == 'hiring-partner', 'lead_type'] = 'OTHER'\n",
    "unassigned.loc[unassigned['tags'] == 'download_outcome', 'lead_type'] = 'DISCOVERY'\n",
    "unassigned.loc[unassigned['tags'] == 'website-lead,blacks-in-technology', 'lead_type'] = 'STRONG'\n",
    "unassigned.loc[unassigned['tags'] == 'request_downloadable', 'lead_type'] = 'DISCOVERY'"
   ]
  },
  {
   "cell_type": "code",
   "execution_count": 12,
   "metadata": {},
   "outputs": [
    {
     "data": {
      "text/plain": [
       "SOFT         23102\n",
       "STRONG       15565\n",
       "DISCOVERY     1370\n",
       "OTHER          103\n",
       "Name: lead_type, dtype: int64"
      ]
     },
     "execution_count": 12,
     "metadata": {},
     "output_type": "execute_result"
    }
   ],
   "source": [
    "unassigned['lead_type'].value_counts()"
   ]
  },
  {
   "cell_type": "code",
   "execution_count": 13,
   "metadata": {},
   "outputs": [],
   "source": [
    "unassigned = unassigned[(unassigned['lead_type']=='STRONG') | (unassigned['lead_type']=='SOFT')]"
   ]
  },
  {
   "cell_type": "code",
   "execution_count": 14,
   "metadata": {},
   "outputs": [
    {
     "data": {
      "text/plain": [
       "38667"
      ]
     },
     "execution_count": 14,
     "metadata": {},
     "output_type": "execute_result"
    }
   ],
   "source": [
    "len(unassigned)"
   ]
  },
  {
   "cell_type": "code",
   "execution_count": 15,
   "metadata": {},
   "outputs": [
    {
     "data": {
      "text/plain": [
       "full-stack                      35609\n",
       "machine-learning-engineering     2131\n",
       "node-js                            23\n",
       "UX/UI                              16\n",
       "Web Developer                      14\n",
       "Opocisiones Infantiles             10\n",
       "Cripto y Web3                       7\n",
       "Data Science                        6\n",
       "Desarrollo Web y Móvil              5\n",
       "Digital Sales                       1\n",
       "Name: course, dtype: int64"
      ]
     },
     "execution_count": 15,
     "metadata": {},
     "output_type": "execute_result"
    }
   ],
   "source": [
    "unassigned['course'].value_counts()"
   ]
  },
  {
   "cell_type": "code",
   "execution_count": 16,
   "metadata": {},
   "outputs": [
    {
     "data": {
      "text/plain": [
       "Index(['id', 'first_name', 'last_name', 'email', 'phone', 'course',\n",
       "       'client_comments', 'language', 'utm_url', 'utm_medium', 'utm_campaign',\n",
       "       'street_address', 'country', 'city', 'latitude', 'longitude', 'state',\n",
       "       'zip_code', 'storage_status', 'created_at', 'updated_at', 'contact_id',\n",
       "       'lead_type', 'location', 'referral_key', 'automations', 'tags', 'gclid',\n",
       "       'browser_lang', 'fb_ad_id', 'fb_adgroup_id', 'fb_form_id',\n",
       "       'fb_leadgen_id', 'fb_page_id', 'utm_source', 'academy_id',\n",
       "       'deal_status', 'sentiment', 'ac_contact_id', 'ac_deal_id', 'user_id',\n",
       "       'won_at', 'ac_expected_cohort', 'current_download',\n",
       "       'lead_generation_app_id', 'utm_content', 'storage_status_text',\n",
       "       'custom_fields', 'sex', 'utm_placement', 'utm_plan', 'utm_term',\n",
       "       'ac_deal_owner_full_name', 'ac_deal_owner_id',\n",
       "       'ac_expected_cohort_date', 'ac_deal_amount', 'ac_deal_currency_code',\n",
       "       'datetime_form_entry_creation', '_merge', 'to_drop', 'fullname',\n",
       "       'datetime_expected_cohort_date', 'cohort_assignation_error', 'campus',\n",
       "       'campus_check'],\n",
       "      dtype='object')"
      ]
     },
     "execution_count": 16,
     "metadata": {},
     "output_type": "execute_result"
    }
   ],
   "source": [
    "unassigned.columns"
   ]
  },
  {
   "cell_type": "code",
   "execution_count": 17,
   "metadata": {},
   "outputs": [],
   "source": [
    "unassigned = unassigned[['fullname', 'email', 'created_at', 'course', 'language', 'location', 'country', 'city', 'campus', 'campus_check', 'cohort_assignation_error', 'lead_type', 'ac_deal_owner_full_name']]"
   ]
  },
  {
   "cell_type": "code",
   "execution_count": 18,
   "metadata": {},
   "outputs": [],
   "source": [
    "unassigned['datetime_creation'] = pd.to_datetime(unassigned['created_at'])"
   ]
  },
  {
   "cell_type": "code",
   "execution_count": 19,
   "metadata": {},
   "outputs": [],
   "source": [
    "unassigned['days_since_creation'] = (pd.Timestamp.now() - unassigned['datetime_creation']).dt.days"
   ]
  },
  {
   "cell_type": "code",
   "execution_count": 20,
   "metadata": {},
   "outputs": [],
   "source": [
    "unassigned = unassigned.rename(columns={'email':'email_u'})"
   ]
  },
  {
   "cell_type": "code",
   "execution_count": 21,
   "metadata": {},
   "outputs": [],
   "source": [
    "unassigned = unassigned.sort_values(by=['days_since_creation'], ascending=False)"
   ]
  },
  {
   "cell_type": "code",
   "execution_count": 24,
   "metadata": {},
   "outputs": [],
   "source": [
    "unassigned.to_csv('../output/unassigned.csv', index=False)"
   ]
  },
  {
   "cell_type": "code",
   "execution_count": 23,
   "metadata": {},
   "outputs": [
    {
     "data": {
      "text/html": [
       "<div>\n",
       "<style scoped>\n",
       "    .dataframe tbody tr th:only-of-type {\n",
       "        vertical-align: middle;\n",
       "    }\n",
       "\n",
       "    .dataframe tbody tr th {\n",
       "        vertical-align: top;\n",
       "    }\n",
       "\n",
       "    .dataframe thead th {\n",
       "        text-align: right;\n",
       "    }\n",
       "</style>\n",
       "<table border=\"1\" class=\"dataframe\">\n",
       "  <thead>\n",
       "    <tr style=\"text-align: right;\">\n",
       "      <th></th>\n",
       "      <th>fullname</th>\n",
       "      <th>email_u</th>\n",
       "      <th>created_at</th>\n",
       "      <th>course</th>\n",
       "      <th>language</th>\n",
       "      <th>location</th>\n",
       "      <th>country</th>\n",
       "      <th>city</th>\n",
       "      <th>campus</th>\n",
       "      <th>campus_check</th>\n",
       "      <th>cohort_assignation_error</th>\n",
       "      <th>lead_type</th>\n",
       "      <th>ac_deal_owner_full_name</th>\n",
       "      <th>datetime_creation</th>\n",
       "      <th>days_since_creation</th>\n",
       "    </tr>\n",
       "  </thead>\n",
       "  <tbody>\n",
       "    <tr>\n",
       "      <th>10</th>\n",
       "      <td>Alexis Aldazoro</td>\n",
       "      <td>alexiseaj.cfc@gmail.com</td>\n",
       "      <td>2020-09-22 05:27:37.584999</td>\n",
       "      <td>NaN</td>\n",
       "      <td>es</td>\n",
       "      <td>NaN</td>\n",
       "      <td>Venezuela</td>\n",
       "      <td>Maracaibo</td>\n",
       "      <td>NaN</td>\n",
       "      <td>No campus assigned</td>\n",
       "      <td>NaN</td>\n",
       "      <td>STRONG</td>\n",
       "      <td>NaN</td>\n",
       "      <td>2020-09-22 05:27:37.584999</td>\n",
       "      <td>888</td>\n",
       "    </tr>\n",
       "    <tr>\n",
       "      <th>6</th>\n",
       "      <td>bastian navarrete</td>\n",
       "      <td>navarrete.gomez.bastian@gmail.com</td>\n",
       "      <td>2020-09-22 12:28:58.358254</td>\n",
       "      <td>NaN</td>\n",
       "      <td>es</td>\n",
       "      <td>santiago-chile</td>\n",
       "      <td>Chile</td>\n",
       "      <td>Santiago de Chile</td>\n",
       "      <td>4Geeks Academy Santiago</td>\n",
       "      <td>Location matches campus</td>\n",
       "      <td>NaN</td>\n",
       "      <td>STRONG</td>\n",
       "      <td>NaN</td>\n",
       "      <td>2020-09-22 12:28:58.358254</td>\n",
       "      <td>887</td>\n",
       "    </tr>\n",
       "    <tr>\n",
       "      <th>32</th>\n",
       "      <td>Patricia Sanchez</td>\n",
       "      <td>2231valemati@gmail.com</td>\n",
       "      <td>2020-09-22 15:30:37.041295</td>\n",
       "      <td>full-stack</td>\n",
       "      <td>es</td>\n",
       "      <td>costa-rica</td>\n",
       "      <td>Venezuela</td>\n",
       "      <td>Maracaibo</td>\n",
       "      <td>4Geeks Academy Latam</td>\n",
       "      <td>Location matches campus</td>\n",
       "      <td>NaN</td>\n",
       "      <td>STRONG</td>\n",
       "      <td>NaN</td>\n",
       "      <td>2020-09-22 15:30:37.041295</td>\n",
       "      <td>887</td>\n",
       "    </tr>\n",
       "    <tr>\n",
       "      <th>29</th>\n",
       "      <td>Patricia Sanchez</td>\n",
       "      <td>2231valemati@gmail.com</td>\n",
       "      <td>2020-09-22 11:54:39.640112</td>\n",
       "      <td>NaN</td>\n",
       "      <td>es</td>\n",
       "      <td>costa-rica</td>\n",
       "      <td>Venezuela</td>\n",
       "      <td>Maracaibo</td>\n",
       "      <td>4Geeks Academy Latam</td>\n",
       "      <td>Location matches campus</td>\n",
       "      <td>NaN</td>\n",
       "      <td>STRONG</td>\n",
       "      <td>NaN</td>\n",
       "      <td>2020-09-22 11:54:39.640112</td>\n",
       "      <td>887</td>\n",
       "    </tr>\n",
       "    <tr>\n",
       "      <th>3153</th>\n",
       "      <td>Eduardo Paris Gonzalez</td>\n",
       "      <td>edpago86@hotmail.com</td>\n",
       "      <td>2020-09-22 21:07:13.802404</td>\n",
       "      <td>NaN</td>\n",
       "      <td>es</td>\n",
       "      <td>madrid-spain</td>\n",
       "      <td>Spain</td>\n",
       "      <td>Madrid</td>\n",
       "      <td>4Geeks Academy Madrid</td>\n",
       "      <td>Location matches campus</td>\n",
       "      <td>NaN</td>\n",
       "      <td>SOFT</td>\n",
       "      <td>NaN</td>\n",
       "      <td>2020-09-22 21:07:13.802404</td>\n",
       "      <td>887</td>\n",
       "    </tr>\n",
       "    <tr>\n",
       "      <th>...</th>\n",
       "      <td>...</td>\n",
       "      <td>...</td>\n",
       "      <td>...</td>\n",
       "      <td>...</td>\n",
       "      <td>...</td>\n",
       "      <td>...</td>\n",
       "      <td>...</td>\n",
       "      <td>...</td>\n",
       "      <td>...</td>\n",
       "      <td>...</td>\n",
       "      <td>...</td>\n",
       "      <td>...</td>\n",
       "      <td>...</td>\n",
       "      <td>...</td>\n",
       "      <td>...</td>\n",
       "    </tr>\n",
       "    <tr>\n",
       "      <th>59870</th>\n",
       "      <td>Julio Ramírez</td>\n",
       "      <td>julioramirez20@gmail.com</td>\n",
       "      <td>2023-02-27 12:06:16.235030</td>\n",
       "      <td>full-stack</td>\n",
       "      <td>es</td>\n",
       "      <td>caracas-venezuela</td>\n",
       "      <td>NaN</td>\n",
       "      <td>NaN</td>\n",
       "      <td>4Geeks Academy Caracas</td>\n",
       "      <td>Location matches campus</td>\n",
       "      <td>NaN</td>\n",
       "      <td>SOFT</td>\n",
       "      <td>NaN</td>\n",
       "      <td>2023-02-27 12:06:16.235030</td>\n",
       "      <td>-1</td>\n",
       "    </tr>\n",
       "    <tr>\n",
       "      <th>59431</th>\n",
       "      <td>Carlos Alejandro Mendoza Mendoza</td>\n",
       "      <td>calitoalejandro184@gmail.com</td>\n",
       "      <td>2023-02-27 13:40:22.309803</td>\n",
       "      <td>full-stack</td>\n",
       "      <td>es</td>\n",
       "      <td>caracas-venezuela</td>\n",
       "      <td>NaN</td>\n",
       "      <td>NaN</td>\n",
       "      <td>4Geeks Academy Caracas</td>\n",
       "      <td>Location matches campus</td>\n",
       "      <td>NaN</td>\n",
       "      <td>SOFT</td>\n",
       "      <td>NaN</td>\n",
       "      <td>2023-02-27 13:40:22.309803</td>\n",
       "      <td>-1</td>\n",
       "    </tr>\n",
       "    <tr>\n",
       "      <th>59868</th>\n",
       "      <td>Alex</td>\n",
       "      <td>ialexmonzon@gmail.com</td>\n",
       "      <td>2023-02-27 11:05:29.104964</td>\n",
       "      <td>machine-learning-engineering</td>\n",
       "      <td>es</td>\n",
       "      <td>madrid-spain</td>\n",
       "      <td>NaN</td>\n",
       "      <td>NaN</td>\n",
       "      <td>4Geeks Academy Madrid</td>\n",
       "      <td>Location matches campus</td>\n",
       "      <td>NaN</td>\n",
       "      <td>SOFT</td>\n",
       "      <td>NaN</td>\n",
       "      <td>2023-02-27 11:05:29.104964</td>\n",
       "      <td>-1</td>\n",
       "    </tr>\n",
       "    <tr>\n",
       "      <th>59867</th>\n",
       "      <td>naroa</td>\n",
       "      <td>naroatfe@gmail.com</td>\n",
       "      <td>2023-02-27 12:06:22.400844</td>\n",
       "      <td>full-stack</td>\n",
       "      <td>es</td>\n",
       "      <td>madrid-spain</td>\n",
       "      <td>NaN</td>\n",
       "      <td>NaN</td>\n",
       "      <td>4Geeks Academy Madrid</td>\n",
       "      <td>Location matches campus</td>\n",
       "      <td>NaN</td>\n",
       "      <td>SOFT</td>\n",
       "      <td>NaN</td>\n",
       "      <td>2023-02-27 12:06:22.400844</td>\n",
       "      <td>-1</td>\n",
       "    </tr>\n",
       "    <tr>\n",
       "      <th>59925</th>\n",
       "      <td>Alejandro Silva</td>\n",
       "      <td>asilvazar@gmail.com</td>\n",
       "      <td>2023-02-27 13:27:59.056836</td>\n",
       "      <td>full-stack</td>\n",
       "      <td>en</td>\n",
       "      <td>caracas-venezuela</td>\n",
       "      <td>Venezuela</td>\n",
       "      <td>Cabimas</td>\n",
       "      <td>4Geeks Academy Caracas</td>\n",
       "      <td>Location matches campus</td>\n",
       "      <td>NaN</td>\n",
       "      <td>SOFT</td>\n",
       "      <td>NaN</td>\n",
       "      <td>2023-02-27 13:27:59.056836</td>\n",
       "      <td>-1</td>\n",
       "    </tr>\n",
       "  </tbody>\n",
       "</table>\n",
       "<p>38667 rows × 15 columns</p>\n",
       "</div>"
      ],
      "text/plain": [
       "                                fullname                            email_u  \\\n",
       "10                       Alexis Aldazoro            alexiseaj.cfc@gmail.com   \n",
       "6                      bastian navarrete  navarrete.gomez.bastian@gmail.com   \n",
       "32                      Patricia Sanchez             2231valemati@gmail.com   \n",
       "29                      Patricia Sanchez             2231valemati@gmail.com   \n",
       "3153              Eduardo Paris Gonzalez               edpago86@hotmail.com   \n",
       "...                                  ...                                ...   \n",
       "59870                     Julio Ramírez            julioramirez20@gmail.com   \n",
       "59431  Carlos Alejandro Mendoza Mendoza        calitoalejandro184@gmail.com   \n",
       "59868                              Alex               ialexmonzon@gmail.com   \n",
       "59867                             naroa                  naroatfe@gmail.com   \n",
       "59925                   Alejandro Silva                 asilvazar@gmail.com   \n",
       "\n",
       "                       created_at                        course language  \\\n",
       "10     2020-09-22 05:27:37.584999                           NaN       es   \n",
       "6      2020-09-22 12:28:58.358254                           NaN       es   \n",
       "32     2020-09-22 15:30:37.041295                    full-stack       es   \n",
       "29     2020-09-22 11:54:39.640112                           NaN       es   \n",
       "3153   2020-09-22 21:07:13.802404                           NaN       es   \n",
       "...                           ...                           ...      ...   \n",
       "59870  2023-02-27 12:06:16.235030                    full-stack       es   \n",
       "59431  2023-02-27 13:40:22.309803                    full-stack       es   \n",
       "59868  2023-02-27 11:05:29.104964  machine-learning-engineering       es   \n",
       "59867  2023-02-27 12:06:22.400844                    full-stack       es   \n",
       "59925  2023-02-27 13:27:59.056836                    full-stack       en   \n",
       "\n",
       "                location    country               city  \\\n",
       "10                   NaN  Venezuela          Maracaibo   \n",
       "6         santiago-chile      Chile  Santiago de Chile   \n",
       "32            costa-rica  Venezuela          Maracaibo   \n",
       "29            costa-rica  Venezuela          Maracaibo   \n",
       "3153        madrid-spain      Spain             Madrid   \n",
       "...                  ...        ...                ...   \n",
       "59870  caracas-venezuela        NaN                NaN   \n",
       "59431  caracas-venezuela        NaN                NaN   \n",
       "59868       madrid-spain        NaN                NaN   \n",
       "59867       madrid-spain        NaN                NaN   \n",
       "59925  caracas-venezuela  Venezuela            Cabimas   \n",
       "\n",
       "                        campus             campus_check  \\\n",
       "10                         NaN       No campus assigned   \n",
       "6      4Geeks Academy Santiago  Location matches campus   \n",
       "32        4Geeks Academy Latam  Location matches campus   \n",
       "29        4Geeks Academy Latam  Location matches campus   \n",
       "3153     4Geeks Academy Madrid  Location matches campus   \n",
       "...                        ...                      ...   \n",
       "59870   4Geeks Academy Caracas  Location matches campus   \n",
       "59431   4Geeks Academy Caracas  Location matches campus   \n",
       "59868    4Geeks Academy Madrid  Location matches campus   \n",
       "59867    4Geeks Academy Madrid  Location matches campus   \n",
       "59925   4Geeks Academy Caracas  Location matches campus   \n",
       "\n",
       "       cohort_assignation_error lead_type ac_deal_owner_full_name  \\\n",
       "10                          NaN    STRONG                     NaN   \n",
       "6                           NaN    STRONG                     NaN   \n",
       "32                          NaN    STRONG                     NaN   \n",
       "29                          NaN    STRONG                     NaN   \n",
       "3153                        NaN      SOFT                     NaN   \n",
       "...                         ...       ...                     ...   \n",
       "59870                       NaN      SOFT                     NaN   \n",
       "59431                       NaN      SOFT                     NaN   \n",
       "59868                       NaN      SOFT                     NaN   \n",
       "59867                       NaN      SOFT                     NaN   \n",
       "59925                       NaN      SOFT                     NaN   \n",
       "\n",
       "               datetime_creation  days_since_creation  \n",
       "10    2020-09-22 05:27:37.584999                  888  \n",
       "6     2020-09-22 12:28:58.358254                  887  \n",
       "32    2020-09-22 15:30:37.041295                  887  \n",
       "29    2020-09-22 11:54:39.640112                  887  \n",
       "3153  2020-09-22 21:07:13.802404                  887  \n",
       "...                          ...                  ...  \n",
       "59870 2023-02-27 12:06:16.235030                   -1  \n",
       "59431 2023-02-27 13:40:22.309803                   -1  \n",
       "59868 2023-02-27 11:05:29.104964                   -1  \n",
       "59867 2023-02-27 12:06:22.400844                   -1  \n",
       "59925 2023-02-27 13:27:59.056836                   -1  \n",
       "\n",
       "[38667 rows x 15 columns]"
      ]
     },
     "execution_count": 23,
     "metadata": {},
     "output_type": "execute_result"
    }
   ],
   "source": [
    "unassigned"
   ]
  }
 ],
 "metadata": {
  "kernelspec": {
   "display_name": "Python 3",
   "language": "python",
   "name": "python3"
  },
  "language_info": {
   "codemirror_mode": {
    "name": "ipython",
    "version": 3
   },
   "file_extension": ".py",
   "mimetype": "text/x-python",
   "name": "python",
   "nbconvert_exporter": "python",
   "pygments_lexer": "ipython3",
   "version": "3.8.16 (default, Jan 10 2023, 15:23:34) \n[GCC 9.4.0]"
  },
  "vscode": {
   "interpreter": {
    "hash": "6823027d7e29b41a4e6f28161e95b4dfbe0e8b9a6a7278f50ef7cf75c6459dbe"
   }
  }
 },
 "nbformat": 4,
 "nbformat_minor": 2
}
