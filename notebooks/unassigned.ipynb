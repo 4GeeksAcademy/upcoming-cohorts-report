{
 "cells": [
  {
   "cell_type": "code",
   "execution_count": 1,
   "metadata": {},
   "outputs": [],
   "source": [
    "%%capture\n",
    "pip install numpy pandas"
   ]
  },
  {
   "cell_type": "code",
   "execution_count": 2,
   "metadata": {},
   "outputs": [],
   "source": [
    "import numpy as np\n",
    "import pandas as pd"
   ]
  },
  {
   "cell_type": "code",
   "execution_count": 3,
   "metadata": {},
   "outputs": [],
   "source": [
    "form_entry = pd.read_csv('../output/form_entry_processed.csv', low_memory=False)"
   ]
  },
  {
   "cell_type": "code",
   "execution_count": 4,
   "metadata": {},
   "outputs": [
    {
     "data": {
      "text/plain": [
       "LOST    17006\n",
       "WON       197\n",
       "Name: deal_status, dtype: int64"
      ]
     },
     "execution_count": 4,
     "metadata": {},
     "output_type": "execute_result"
    }
   ],
   "source": [
    "form_entry['deal_status'].value_counts()"
   ]
  },
  {
   "cell_type": "code",
   "execution_count": 5,
   "metadata": {},
   "outputs": [],
   "source": [
    "not_lost_or_won = form_entry[(form_entry['deal_status']!='LOST') & (form_entry['deal_status']!='WON')]"
   ]
  },
  {
   "cell_type": "code",
   "execution_count": 6,
   "metadata": {},
   "outputs": [],
   "source": [
    "unassigned = not_lost_or_won[not_lost_or_won['ac_expected_cohort'].isnull()]"
   ]
  },
  {
   "cell_type": "code",
   "execution_count": 7,
   "metadata": {},
   "outputs": [],
   "source": [
    "unassigned = unassigned[unassigned['email'].str.contains('@4geeks') == False]"
   ]
  },
  {
   "cell_type": "code",
   "execution_count": 8,
   "metadata": {},
   "outputs": [
    {
     "data": {
      "text/plain": [
       "39113"
      ]
     },
     "execution_count": 8,
     "metadata": {},
     "output_type": "execute_result"
    }
   ],
   "source": [
    "len(unassigned)"
   ]
  },
  {
   "cell_type": "code",
   "execution_count": 9,
   "metadata": {},
   "outputs": [
    {
     "data": {
      "text/plain": [
       "STRONG    76\n",
       "SOFT      36\n",
       "Name: lead_type, dtype: int64"
      ]
     },
     "execution_count": 9,
     "metadata": {},
     "output_type": "execute_result"
    }
   ],
   "source": [
    "unassigned['lead_type'].value_counts()"
   ]
  },
  {
   "cell_type": "code",
   "execution_count": 10,
   "metadata": {},
   "outputs": [],
   "source": [
    "unassigned.loc[unassigned['tags'] == 'request_more_info', 'lead_type'] = 'SOFT'\n",
    "unassigned.loc[unassigned['tags'] == 'website-lead', 'lead_type'] = 'STRONG'\n",
    "unassigned.loc[unassigned['tags'] == 'newsletter', 'lead_type'] = 'DISCOVERY'\n",
    "unassigned.loc[unassigned['tags'] == 'contact-us', 'lead_type'] = 'SOFT'\n",
    "unassigned.loc[unassigned['tags'] == 'utec-uruguay', 'lead_type'] = 'STRONG'\n",
    "unassigned.loc[unassigned['tags'] == 'jobboard-lead', 'lead_type'] = 'STRONG'\n",
    "unassigned.loc[unassigned['tags'] == 'hiring-partner', 'lead_type'] = 'OTHER'\n",
    "unassigned.loc[unassigned['tags'] == 'download_outcome', 'lead_type'] = 'DISCOVERY'\n",
    "unassigned.loc[unassigned['tags'] == 'website-lead,blacks-in-technology', 'lead_type'] = 'STRONG'\n",
    "unassigned.loc[unassigned['tags'] == 'request_downloadable', 'lead_type'] = 'DISCOVERY'"
   ]
  },
  {
   "cell_type": "code",
   "execution_count": 11,
   "metadata": {},
   "outputs": [
    {
     "data": {
      "text/plain": [
       "SOFT         22417\n",
       "STRONG       15239\n",
       "DISCOVERY     1339\n",
       "OTHER          103\n",
       "Name: lead_type, dtype: int64"
      ]
     },
     "execution_count": 11,
     "metadata": {},
     "output_type": "execute_result"
    }
   ],
   "source": [
    "unassigned['lead_type'].value_counts()"
   ]
  },
  {
   "cell_type": "code",
   "execution_count": 12,
   "metadata": {},
   "outputs": [],
   "source": [
    "unassigned = unassigned[(unassigned['lead_type']=='STRONG') | (unassigned['lead_type']=='SOFT')]"
   ]
  },
  {
   "cell_type": "code",
   "execution_count": 13,
   "metadata": {},
   "outputs": [
    {
     "data": {
      "text/plain": [
       "37656"
      ]
     },
     "execution_count": 13,
     "metadata": {},
     "output_type": "execute_result"
    }
   ],
   "source": [
    "len(unassigned)"
   ]
  },
  {
   "cell_type": "code",
   "execution_count": 14,
   "metadata": {},
   "outputs": [
    {
     "data": {
      "text/plain": [
       "full-stack                      34706\n",
       "machine-learning-engineering     2087\n",
       "node-js                            23\n",
       "Name: course, dtype: int64"
      ]
     },
     "execution_count": 14,
     "metadata": {},
     "output_type": "execute_result"
    }
   ],
   "source": [
    "unassigned['course'].value_counts()"
   ]
  },
  {
   "cell_type": "code",
   "execution_count": 15,
   "metadata": {},
   "outputs": [
    {
     "data": {
      "text/plain": [
       "Index(['id', 'first_name', 'last_name', 'email', 'phone', 'course',\n",
       "       'client_comments', 'language', 'utm_url', 'utm_medium', 'utm_campaign',\n",
       "       'street_address', 'country', 'city', 'latitude', 'longitude', 'state',\n",
       "       'zip_code', 'storage_status', 'created_at', 'updated_at', 'contact_id',\n",
       "       'lead_type', 'location', 'referral_key', 'automations', 'tags', 'gclid',\n",
       "       'browser_lang', 'fb_ad_id', 'fb_adgroup_id', 'fb_form_id',\n",
       "       'fb_leadgen_id', 'fb_page_id', 'utm_source', 'academy_id',\n",
       "       'deal_status', 'sentiment', 'ac_contact_id', 'ac_deal_id', 'user_id',\n",
       "       'won_at', 'ac_expected_cohort', 'current_download',\n",
       "       'lead_generation_app_id', 'utm_content', 'storage_status_text',\n",
       "       'custom_fields', 'sex', 'utm_placement', 'utm_plan', 'utm_term',\n",
       "       'ac_deal_owner_full_name', 'ac_deal_owner_id',\n",
       "       'ac_expected_cohort_date', 'ac_deal_amount', 'ac_deal_currency_code',\n",
       "       'datetime_form_entry_creation', 'fullname',\n",
       "       'datetime_expected_cohort_date', 'cohort_assignation_error', 'campus',\n",
       "       'campus_check'],\n",
       "      dtype='object')"
      ]
     },
     "execution_count": 15,
     "metadata": {},
     "output_type": "execute_result"
    }
   ],
   "source": [
    "unassigned.columns"
   ]
  },
  {
   "cell_type": "code",
   "execution_count": 16,
   "metadata": {},
   "outputs": [],
   "source": [
    "unassigned = unassigned[['fullname', 'email', 'created_at', 'course', 'language', 'location', 'country', 'city', 'campus', 'campus_check', 'cohort_assignation_error', 'lead_type', 'ac_deal_owner_full_name']]"
   ]
  },
  {
   "cell_type": "code",
   "execution_count": 17,
   "metadata": {},
   "outputs": [],
   "source": [
    "unassigned['datetime_creation'] = pd.to_datetime(unassigned['created_at'])"
   ]
  },
  {
   "cell_type": "code",
   "execution_count": 18,
   "metadata": {},
   "outputs": [],
   "source": [
    "unassigned['days_since_creation'] = (pd.Timestamp.now() - unassigned['datetime_creation']).dt.days"
   ]
  },
  {
   "cell_type": "code",
   "execution_count": 19,
   "metadata": {},
   "outputs": [],
   "source": [
    "unassigned = unassigned.rename(columns={'email':'email_u'})"
   ]
  },
  {
   "cell_type": "code",
   "execution_count": 20,
   "metadata": {},
   "outputs": [],
   "source": [
    "unassigned = unassigned.sort_values(by=['days_since_creation'], ascending=False)"
   ]
  },
  {
   "cell_type": "code",
   "execution_count": 21,
   "metadata": {},
   "outputs": [],
   "source": [
    "unassigned.to_csv('../output/unassigned.csv')"
   ]
  },
  {
   "cell_type": "code",
   "execution_count": 22,
   "metadata": {},
   "outputs": [
    {
     "data": {
      "text/html": [
       "<div>\n",
       "<style scoped>\n",
       "    .dataframe tbody tr th:only-of-type {\n",
       "        vertical-align: middle;\n",
       "    }\n",
       "\n",
       "    .dataframe tbody tr th {\n",
       "        vertical-align: top;\n",
       "    }\n",
       "\n",
       "    .dataframe thead th {\n",
       "        text-align: right;\n",
       "    }\n",
       "</style>\n",
       "<table border=\"1\" class=\"dataframe\">\n",
       "  <thead>\n",
       "    <tr style=\"text-align: right;\">\n",
       "      <th></th>\n",
       "      <th>fullname</th>\n",
       "      <th>email_u</th>\n",
       "      <th>created_at</th>\n",
       "      <th>course</th>\n",
       "      <th>language</th>\n",
       "      <th>location</th>\n",
       "      <th>country</th>\n",
       "      <th>city</th>\n",
       "      <th>campus</th>\n",
       "      <th>campus_check</th>\n",
       "      <th>cohort_assignation_error</th>\n",
       "      <th>lead_type</th>\n",
       "      <th>ac_deal_owner_full_name</th>\n",
       "      <th>datetime_creation</th>\n",
       "      <th>days_since_creation</th>\n",
       "    </tr>\n",
       "  </thead>\n",
       "  <tbody>\n",
       "    <tr>\n",
       "      <th>29</th>\n",
       "      <td>Patricia Sanchez</td>\n",
       "      <td>2231valemati@gmail.com</td>\n",
       "      <td>2020-09-22 15:30:37.041295</td>\n",
       "      <td>full-stack</td>\n",
       "      <td>es</td>\n",
       "      <td>costa-rica</td>\n",
       "      <td>Venezuela</td>\n",
       "      <td>Maracaibo</td>\n",
       "      <td>4Geeks Academy Latam</td>\n",
       "      <td>Location matches campus</td>\n",
       "      <td>NaN</td>\n",
       "      <td>STRONG</td>\n",
       "      <td>NaN</td>\n",
       "      <td>2020-09-22 15:30:37.041295</td>\n",
       "      <td>884</td>\n",
       "    </tr>\n",
       "    <tr>\n",
       "      <th>21452</th>\n",
       "      <td>Daniel Suarez</td>\n",
       "      <td>ingsuarezcda@gmail.com</td>\n",
       "      <td>2020-09-22 15:48:03.107909</td>\n",
       "      <td>NaN</td>\n",
       "      <td>es</td>\n",
       "      <td>madrid-spain</td>\n",
       "      <td>Spain</td>\n",
       "      <td>Madrid</td>\n",
       "      <td>4Geeks Academy Madrid</td>\n",
       "      <td>Location matches campus</td>\n",
       "      <td>NaN</td>\n",
       "      <td>SOFT</td>\n",
       "      <td>NaN</td>\n",
       "      <td>2020-09-22 15:48:03.107909</td>\n",
       "      <td>884</td>\n",
       "    </tr>\n",
       "    <tr>\n",
       "      <th>26</th>\n",
       "      <td>Patricia Sanchez</td>\n",
       "      <td>2231valemati@gmail.com</td>\n",
       "      <td>2020-09-22 11:54:39.640112</td>\n",
       "      <td>NaN</td>\n",
       "      <td>es</td>\n",
       "      <td>costa-rica</td>\n",
       "      <td>Venezuela</td>\n",
       "      <td>Maracaibo</td>\n",
       "      <td>4Geeks Academy Latam</td>\n",
       "      <td>Location matches campus</td>\n",
       "      <td>NaN</td>\n",
       "      <td>STRONG</td>\n",
       "      <td>NaN</td>\n",
       "      <td>2020-09-22 11:54:39.640112</td>\n",
       "      <td>884</td>\n",
       "    </tr>\n",
       "    <tr>\n",
       "      <th>5</th>\n",
       "      <td>bastian navarrete</td>\n",
       "      <td>navarrete.gomez.bastian@gmail.com</td>\n",
       "      <td>2020-09-22 12:28:58.358254</td>\n",
       "      <td>NaN</td>\n",
       "      <td>es</td>\n",
       "      <td>santiago-chile</td>\n",
       "      <td>Chile</td>\n",
       "      <td>Santiago de Chile</td>\n",
       "      <td>4Geeks Academy Santiago</td>\n",
       "      <td>Location matches campus</td>\n",
       "      <td>NaN</td>\n",
       "      <td>STRONG</td>\n",
       "      <td>NaN</td>\n",
       "      <td>2020-09-22 12:28:58.358254</td>\n",
       "      <td>884</td>\n",
       "    </tr>\n",
       "    <tr>\n",
       "      <th>28</th>\n",
       "      <td>Adilson de Souza</td>\n",
       "      <td>ADISOUZA.LIVE@GMAIL.COM</td>\n",
       "      <td>2020-09-22 14:24:58.076274</td>\n",
       "      <td>full-stack</td>\n",
       "      <td>en</td>\n",
       "      <td>downtown-miami</td>\n",
       "      <td>usa</td>\n",
       "      <td>Miami</td>\n",
       "      <td>4Geeks Academy Miami</td>\n",
       "      <td>Location matches campus</td>\n",
       "      <td>NaN</td>\n",
       "      <td>SOFT</td>\n",
       "      <td>NaN</td>\n",
       "      <td>2020-09-22 14:24:58.076274</td>\n",
       "      <td>884</td>\n",
       "    </tr>\n",
       "    <tr>\n",
       "      <th>...</th>\n",
       "      <td>...</td>\n",
       "      <td>...</td>\n",
       "      <td>...</td>\n",
       "      <td>...</td>\n",
       "      <td>...</td>\n",
       "      <td>...</td>\n",
       "      <td>...</td>\n",
       "      <td>...</td>\n",
       "      <td>...</td>\n",
       "      <td>...</td>\n",
       "      <td>...</td>\n",
       "      <td>...</td>\n",
       "      <td>...</td>\n",
       "      <td>...</td>\n",
       "      <td>...</td>\n",
       "    </tr>\n",
       "    <tr>\n",
       "      <th>56281</th>\n",
       "      <td>Javier Tejero Rubio</td>\n",
       "      <td>ja.tejeror@gmail.com</td>\n",
       "      <td>2023-02-16 21:20:48.150343</td>\n",
       "      <td>full-stack</td>\n",
       "      <td>es</td>\n",
       "      <td>madrid-spain</td>\n",
       "      <td>NaN</td>\n",
       "      <td>NaN</td>\n",
       "      <td>4Geeks Academy Madrid</td>\n",
       "      <td>Location matches campus</td>\n",
       "      <td>NaN</td>\n",
       "      <td>SOFT</td>\n",
       "      <td>NaN</td>\n",
       "      <td>2023-02-16 21:20:48.150343</td>\n",
       "      <td>6</td>\n",
       "    </tr>\n",
       "    <tr>\n",
       "      <th>56279</th>\n",
       "      <td>Sandra Fisher</td>\n",
       "      <td>joyful4him85@gmail.com</td>\n",
       "      <td>2023-02-16 20:15:09.667543</td>\n",
       "      <td>full-stack</td>\n",
       "      <td>en</td>\n",
       "      <td>orlando</td>\n",
       "      <td>United States</td>\n",
       "      <td>Grand Junction</td>\n",
       "      <td>4Geeks Academy Orlando</td>\n",
       "      <td>Location matches campus</td>\n",
       "      <td>NaN</td>\n",
       "      <td>SOFT</td>\n",
       "      <td>NaN</td>\n",
       "      <td>2023-02-16 20:15:09.667543</td>\n",
       "      <td>6</td>\n",
       "    </tr>\n",
       "    <tr>\n",
       "      <th>56278</th>\n",
       "      <td>sara nallelyt quintanilla gaviria</td>\n",
       "      <td>saquiga2009@gmail.com</td>\n",
       "      <td>2023-02-16 20:43:56.963703</td>\n",
       "      <td>full-stack</td>\n",
       "      <td>es</td>\n",
       "      <td>bogota-colombia</td>\n",
       "      <td>NaN</td>\n",
       "      <td>NaN</td>\n",
       "      <td>4Geeks Academy Latam</td>\n",
       "      <td>Location matches campus</td>\n",
       "      <td>NaN</td>\n",
       "      <td>SOFT</td>\n",
       "      <td>NaN</td>\n",
       "      <td>2023-02-16 20:43:56.963703</td>\n",
       "      <td>6</td>\n",
       "    </tr>\n",
       "    <tr>\n",
       "      <th>56277</th>\n",
       "      <td>Heleno Wagno Martins de Miranda</td>\n",
       "      <td>helenomiranda@yahoo.com.br</td>\n",
       "      <td>2023-02-16 21:09:23.860404</td>\n",
       "      <td>full-stack</td>\n",
       "      <td>en</td>\n",
       "      <td>lisbon-portugal</td>\n",
       "      <td>Portugal</td>\n",
       "      <td>Lisboa</td>\n",
       "      <td>4Geeks Academy Europe</td>\n",
       "      <td>Location matches campus</td>\n",
       "      <td>NaN</td>\n",
       "      <td>SOFT</td>\n",
       "      <td>NaN</td>\n",
       "      <td>2023-02-16 21:09:23.860404</td>\n",
       "      <td>6</td>\n",
       "    </tr>\n",
       "    <tr>\n",
       "      <th>56378</th>\n",
       "      <td>christian lucero</td>\n",
       "      <td>krsnalucero@gmail.com</td>\n",
       "      <td>2023-02-17 13:42:32.968654</td>\n",
       "      <td>full-stack</td>\n",
       "      <td>es</td>\n",
       "      <td>santiago-chile</td>\n",
       "      <td>Chile</td>\n",
       "      <td>Santiago</td>\n",
       "      <td>4Geeks Academy Santiago</td>\n",
       "      <td>Location matches campus</td>\n",
       "      <td>NaN</td>\n",
       "      <td>SOFT</td>\n",
       "      <td>NaN</td>\n",
       "      <td>2023-02-17 13:42:32.968654</td>\n",
       "      <td>6</td>\n",
       "    </tr>\n",
       "  </tbody>\n",
       "</table>\n",
       "<p>37656 rows × 15 columns</p>\n",
       "</div>"
      ],
      "text/plain": [
       "                                 fullname                            email_u  \\\n",
       "29                       Patricia Sanchez             2231valemati@gmail.com   \n",
       "21452                       Daniel Suarez             ingsuarezcda@gmail.com   \n",
       "26                       Patricia Sanchez             2231valemati@gmail.com   \n",
       "5                       bastian navarrete  navarrete.gomez.bastian@gmail.com   \n",
       "28                       Adilson de Souza            ADISOUZA.LIVE@GMAIL.COM   \n",
       "...                                   ...                                ...   \n",
       "56281                Javier Tejero Rubio                ja.tejeror@gmail.com   \n",
       "56279                      Sandra Fisher              joyful4him85@gmail.com   \n",
       "56278  sara nallelyt quintanilla gaviria               saquiga2009@gmail.com   \n",
       "56277    Heleno Wagno Martins de Miranda          helenomiranda@yahoo.com.br   \n",
       "56378                   christian lucero               krsnalucero@gmail.com   \n",
       "\n",
       "                       created_at      course language         location  \\\n",
       "29     2020-09-22 15:30:37.041295  full-stack       es       costa-rica   \n",
       "21452  2020-09-22 15:48:03.107909         NaN       es     madrid-spain   \n",
       "26     2020-09-22 11:54:39.640112         NaN       es       costa-rica   \n",
       "5      2020-09-22 12:28:58.358254         NaN       es   santiago-chile   \n",
       "28     2020-09-22 14:24:58.076274  full-stack       en   downtown-miami   \n",
       "...                           ...         ...      ...              ...   \n",
       "56281  2023-02-16 21:20:48.150343  full-stack       es     madrid-spain   \n",
       "56279  2023-02-16 20:15:09.667543  full-stack       en          orlando   \n",
       "56278  2023-02-16 20:43:56.963703  full-stack       es  bogota-colombia   \n",
       "56277  2023-02-16 21:09:23.860404  full-stack       en  lisbon-portugal   \n",
       "56378  2023-02-17 13:42:32.968654  full-stack       es   santiago-chile   \n",
       "\n",
       "             country               city                   campus  \\\n",
       "29         Venezuela          Maracaibo     4Geeks Academy Latam   \n",
       "21452          Spain             Madrid    4Geeks Academy Madrid   \n",
       "26         Venezuela          Maracaibo     4Geeks Academy Latam   \n",
       "5              Chile  Santiago de Chile  4Geeks Academy Santiago   \n",
       "28               usa              Miami     4Geeks Academy Miami   \n",
       "...              ...                ...                      ...   \n",
       "56281            NaN                NaN    4Geeks Academy Madrid   \n",
       "56279  United States     Grand Junction   4Geeks Academy Orlando   \n",
       "56278            NaN                NaN     4Geeks Academy Latam   \n",
       "56277       Portugal             Lisboa    4Geeks Academy Europe   \n",
       "56378          Chile           Santiago  4Geeks Academy Santiago   \n",
       "\n",
       "                  campus_check  cohort_assignation_error lead_type  \\\n",
       "29     Location matches campus                       NaN    STRONG   \n",
       "21452  Location matches campus                       NaN      SOFT   \n",
       "26     Location matches campus                       NaN    STRONG   \n",
       "5      Location matches campus                       NaN    STRONG   \n",
       "28     Location matches campus                       NaN      SOFT   \n",
       "...                        ...                       ...       ...   \n",
       "56281  Location matches campus                       NaN      SOFT   \n",
       "56279  Location matches campus                       NaN      SOFT   \n",
       "56278  Location matches campus                       NaN      SOFT   \n",
       "56277  Location matches campus                       NaN      SOFT   \n",
       "56378  Location matches campus                       NaN      SOFT   \n",
       "\n",
       "      ac_deal_owner_full_name          datetime_creation  days_since_creation  \n",
       "29                        NaN 2020-09-22 15:30:37.041295                  884  \n",
       "21452                     NaN 2020-09-22 15:48:03.107909                  884  \n",
       "26                        NaN 2020-09-22 11:54:39.640112                  884  \n",
       "5                         NaN 2020-09-22 12:28:58.358254                  884  \n",
       "28                        NaN 2020-09-22 14:24:58.076274                  884  \n",
       "...                       ...                        ...                  ...  \n",
       "56281                     NaN 2023-02-16 21:20:48.150343                    6  \n",
       "56279                     NaN 2023-02-16 20:15:09.667543                    6  \n",
       "56278                     NaN 2023-02-16 20:43:56.963703                    6  \n",
       "56277                     NaN 2023-02-16 21:09:23.860404                    6  \n",
       "56378                     NaN 2023-02-17 13:42:32.968654                    6  \n",
       "\n",
       "[37656 rows x 15 columns]"
      ]
     },
     "execution_count": 22,
     "metadata": {},
     "output_type": "execute_result"
    }
   ],
   "source": [
    "unassigned"
   ]
  }
 ],
 "metadata": {
  "kernelspec": {
   "display_name": "Python 3 (ipykernel)",
   "language": "python",
   "name": "python3"
  },
  "language_info": {
   "codemirror_mode": {
    "name": "ipython",
    "version": 3
   },
   "file_extension": ".py",
   "mimetype": "text/x-python",
   "name": "python",
   "nbconvert_exporter": "python",
   "pygments_lexer": "ipython3",
   "version": "3.8.16 (default, Jan 10 2023, 15:23:34) \n[GCC 9.4.0]"
  },
  "vscode": {
   "interpreter": {
    "hash": "9ac03a0a6051494cc606d484d27d20fce22fb7b4d169f583271e11d5ba46a56e"
   }
  }
 },
 "nbformat": 4,
 "nbformat_minor": 2
}
