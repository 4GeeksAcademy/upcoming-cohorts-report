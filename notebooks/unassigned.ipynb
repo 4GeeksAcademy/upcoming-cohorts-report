{
 "cells": [
  {
   "cell_type": "code",
   "execution_count": null,
   "metadata": {},
   "outputs": [],
   "source": [
    "%%capture\n",
    "pip install numpy pandas"
   ]
  },
  {
   "cell_type": "code",
   "execution_count": null,
   "metadata": {},
   "outputs": [],
   "source": [
    "import numpy as np\n",
    "import pandas as pd"
   ]
  },
  {
   "cell_type": "code",
   "execution_count": null,
   "metadata": {},
   "outputs": [],
   "source": [
    "form_entry = pd.read_csv('../output/form_entry_processed.csv', low_memory=False)"
   ]
  },
  {
   "cell_type": "code",
   "execution_count": null,
   "metadata": {},
   "outputs": [],
   "source": [
    "form_entry['deal_status'].value_counts()"
   ]
  },
  {
   "cell_type": "code",
   "execution_count": null,
   "metadata": {},
   "outputs": [],
   "source": [
    "not_lost_or_won = form_entry[(form_entry['deal_status']!='LOST') & (form_entry['deal_status']!='WON')]"
   ]
  },
  {
   "cell_type": "code",
   "execution_count": null,
   "metadata": {},
   "outputs": [],
   "source": [
    "unassigned = not_lost_or_won[not_lost_or_won['ac_expected_cohort'].isnull()]"
   ]
  },
  {
   "cell_type": "code",
   "execution_count": null,
   "metadata": {},
   "outputs": [],
   "source": [
    "unassigned = unassigned[unassigned['email'].str.contains('@4geeks') == False]"
   ]
  },
  {
   "cell_type": "code",
   "execution_count": null,
   "metadata": {},
   "outputs": [],
   "source": [
    "len(unassigned)"
   ]
  },
  {
   "cell_type": "code",
   "execution_count": null,
   "metadata": {},
   "outputs": [],
   "source": [
    "unassigned['lead_type'].value_counts()"
   ]
  },
  {
   "cell_type": "code",
   "execution_count": null,
   "metadata": {},
   "outputs": [],
   "source": [
    "unassigned.loc[unassigned['tags'] == 'request_more_info', 'lead_type'] = 'SOFT'\n",
    "unassigned.loc[unassigned['tags'] == 'website-lead', 'lead_type'] = 'STRONG'\n",
    "unassigned.loc[unassigned['tags'] == 'newsletter', 'lead_type'] = 'DISCOVERY'\n",
    "unassigned.loc[unassigned['tags'] == 'contact-us', 'lead_type'] = 'SOFT'\n",
    "unassigned.loc[unassigned['tags'] == 'utec-uruguay', 'lead_type'] = 'STRONG'\n",
    "unassigned.loc[unassigned['tags'] == 'jobboard-lead', 'lead_type'] = 'STRONG'\n",
    "unassigned.loc[unassigned['tags'] == 'hiring-partner', 'lead_type'] = 'OTHER'\n",
    "unassigned.loc[unassigned['tags'] == 'download_outcome', 'lead_type'] = 'DISCOVERY'\n",
    "unassigned.loc[unassigned['tags'] == 'website-lead,blacks-in-technology', 'lead_type'] = 'STRONG'\n",
    "unassigned.loc[unassigned['tags'] == 'request_downloadable', 'lead_type'] = 'DISCOVERY'"
   ]
  },
  {
   "cell_type": "code",
   "execution_count": null,
   "metadata": {},
   "outputs": [],
   "source": [
    "unassigned['lead_type'].value_counts()"
   ]
  },
  {
   "cell_type": "code",
   "execution_count": null,
   "metadata": {},
   "outputs": [],
   "source": [
    "unassigned = unassigned[(unassigned['lead_type']=='STRONG') | (unassigned['lead_type']=='SOFT')]"
   ]
  },
  {
   "cell_type": "code",
   "execution_count": null,
   "metadata": {},
   "outputs": [],
   "source": [
    "len(unassigned)"
   ]
  },
  {
   "cell_type": "code",
   "execution_count": null,
   "metadata": {},
   "outputs": [],
   "source": [
    "unassigned['course'].value_counts()"
   ]
  },
  {
   "cell_type": "code",
   "execution_count": null,
   "metadata": {},
   "outputs": [],
   "source": [
    "unassigned.columns"
   ]
  },
  {
   "cell_type": "code",
   "execution_count": null,
   "metadata": {},
   "outputs": [],
   "source": [
    "unassigned = unassigned[['fullname', 'email', 'created_at', 'course', 'language', 'location', 'country', 'city', 'campus', 'campus_check', 'cohort_assignation_error', 'lead_type', 'ac_deal_owner_full_name']]"
   ]
  },
  {
   "cell_type": "code",
   "execution_count": null,
   "metadata": {},
   "outputs": [],
   "source": [
    "unassigned['datetime_creation'] = pd.to_datetime(unassigned['created_at'])"
   ]
  },
  {
   "cell_type": "code",
   "execution_count": null,
   "metadata": {},
   "outputs": [],
   "source": [
    "unassigned['days_since_creation'] = (pd.Timestamp.now() - unassigned['datetime_creation']).dt.days"
   ]
  },
  {
   "cell_type": "code",
   "execution_count": null,
   "metadata": {},
   "outputs": [],
   "source": [
    "unassigned = unassigned.rename(columns={'email':'email_u'})"
   ]
  },
  {
   "cell_type": "code",
   "execution_count": null,
   "metadata": {},
   "outputs": [],
   "source": [
    "unassigned = unassigned.sort_values(by=['days_since_creation'], ascending=False)"
   ]
  },
  {
   "cell_type": "code",
   "execution_count": null,
   "metadata": {},
   "outputs": [],
   "source": [
    "unassigned.to_csv('../output/unassigned.csv')"
   ]
  },
  {
   "cell_type": "code",
   "execution_count": null,
   "metadata": {},
   "outputs": [],
   "source": [
    "unassigned"
   ]
  }
 ],
 "metadata": {
  "kernelspec": {
   "display_name": "Python 3 (ipykernel)",
   "language": "python",
   "name": "python3"
  },
  "language_info": {
   "codemirror_mode": {
    "name": "ipython",
    "version": 3
   },
   "file_extension": ".py",
   "mimetype": "text/x-python",
   "name": "python",
   "nbconvert_exporter": "python",
   "pygments_lexer": "ipython3",
   "version": "3.8.16 (default, Jan 10 2023, 15:23:34) \n[GCC 9.4.0]"
  },
  "vscode": {
   "interpreter": {
    "hash": "9ac03a0a6051494cc606d484d27d20fce22fb7b4d169f583271e11d5ba46a56e"
   }
  }
 },
 "nbformat": 4,
 "nbformat_minor": 2
}
