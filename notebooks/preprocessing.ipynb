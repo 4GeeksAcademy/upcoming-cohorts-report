{
 "cells": [
  {
   "cell_type": "code",
   "execution_count": null,
   "metadata": {},
   "outputs": [],
   "source": [
    "%%capture\n",
    "pip install numpy pandas"
   ]
  },
  {
   "cell_type": "code",
   "execution_count": null,
   "metadata": {},
   "outputs": [],
   "source": [
    "import numpy as np\n",
    "import pandas as pd"
   ]
  },
  {
   "attachments": {},
   "cell_type": "markdown",
   "metadata": {},
   "source": [
    "#### **1. Do not consider people who are in cohort_users after completing form_entry**"
   ]
  },
  {
   "cell_type": "code",
   "execution_count": null,
   "metadata": {},
   "outputs": [],
   "source": [
    "form_entry = pd.read_csv('../sources/form_entry.csv', low_memory=False)"
   ]
  },
  {
   "cell_type": "code",
   "execution_count": null,
   "metadata": {},
   "outputs": [],
   "source": [
    "form_entry.columns"
   ]
  },
  {
   "cell_type": "code",
   "execution_count": null,
   "metadata": {},
   "outputs": [],
   "source": [
    "cohort_users = pd.read_csv('../sources/cohort_users.csv')"
   ]
  },
  {
   "cell_type": "code",
   "execution_count": null,
   "metadata": {},
   "outputs": [],
   "source": [
    "cohort_users"
   ]
  },
  {
   "cell_type": "code",
   "execution_count": null,
   "metadata": {},
   "outputs": [],
   "source": [
    "auth = pd.read_csv('../sources/auth_user.csv')"
   ]
  },
  {
   "cell_type": "code",
   "execution_count": null,
   "metadata": {},
   "outputs": [],
   "source": [
    "cohort_users_auth = cohort_users.merge(auth, left_on='user_id', right_on='id', how='left')"
   ]
  },
  {
   "cell_type": "code",
   "execution_count": null,
   "metadata": {},
   "outputs": [],
   "source": [
    "cohort_users_auth.columns"
   ]
  },
  {
   "cell_type": "code",
   "execution_count": null,
   "metadata": {},
   "outputs": [],
   "source": [
    "cohort_users_auth = cohort_users_auth[['email', 'role', 'created_at', 'cohort_id']]"
   ]
  },
  {
   "cell_type": "code",
   "execution_count": null,
   "metadata": {},
   "outputs": [],
   "source": [
    "cohort_users_auth = cohort_users_auth[cohort_users_auth['role'].str.lower()=='student']"
   ]
  },
  {
   "cell_type": "code",
   "execution_count": null,
   "metadata": {},
   "outputs": [],
   "source": [
    "# Delete \"+00:00\"\n",
    "def correct_date(time):\n",
    "    if pd.isna(time):\n",
    "         return time\n",
    "    else:\n",
    "        sep = '+'\n",
    "        stripped = time.split(sep, 1)[0]\n",
    "        return stripped"
   ]
  },
  {
   "cell_type": "code",
   "execution_count": null,
   "metadata": {},
   "outputs": [],
   "source": [
    "cohort_users_auth['created_at'] = cohort_users_auth['created_at'].apply(correct_date)"
   ]
  },
  {
   "cell_type": "code",
   "execution_count": null,
   "metadata": {},
   "outputs": [],
   "source": [
    "form_entry['created_at'] = form_entry['created_at'].apply(correct_date)"
   ]
  },
  {
   "cell_type": "code",
   "execution_count": null,
   "metadata": {},
   "outputs": [],
   "source": [
    "cohort_users_auth['datetime_cohort_user_creation'] = pd.to_datetime(cohort_users_auth['created_at'])"
   ]
  },
  {
   "cell_type": "code",
   "execution_count": null,
   "metadata": {},
   "outputs": [],
   "source": [
    "form_entry['datetime_form_entry_creation'] = pd.to_datetime(form_entry['created_at'])"
   ]
  },
  {
   "cell_type": "code",
   "execution_count": null,
   "metadata": {},
   "outputs": [],
   "source": [
    "cohort_users_auth"
   ]
  },
  {
   "cell_type": "code",
   "execution_count": null,
   "metadata": {},
   "outputs": [],
   "source": [
    "merged = pd.merge(form_entry, cohort_users_auth, on='email', how='inner')"
   ]
  },
  {
   "cell_type": "code",
   "execution_count": null,
   "metadata": {},
   "outputs": [],
   "source": [
    "to_drop = merged[merged['datetime_cohort_user_creation'] > merged['datetime_form_entry_creation']]"
   ]
  },
  {
   "cell_type": "code",
   "execution_count": null,
   "metadata": {},
   "outputs": [],
   "source": [
    "form_entry.columns"
   ]
  },
  {
   "cell_type": "code",
   "execution_count": null,
   "metadata": {},
   "outputs": [],
   "source": [
    "to_drop.columns"
   ]
  },
  {
   "cell_type": "code",
   "execution_count": null,
   "metadata": {},
   "outputs": [],
   "source": [
    "to_drop = to_drop.drop(columns=['role', 'created_at_y', 'cohort_id', 'datetime_cohort_user_creation'])"
   ]
  },
  {
   "cell_type": "code",
   "execution_count": null,
   "metadata": {},
   "outputs": [],
   "source": [
    "to_drop = to_drop.rename(columns={'created_at_x':'created_at'})"
   ]
  },
  {
   "cell_type": "code",
   "execution_count": null,
   "metadata": {},
   "outputs": [],
   "source": [
    "merged = pd.merge(form_entry, to_drop, how='outer', indicator=True)\n",
    "dropped = merged[merged['_merge'] == 'both'].drop('_merge', axis=1)\n",
    "form_entry = merged[merged['_merge'] == 'left_only'].drop('_merge', axis=1)"
   ]
  },
  {
   "cell_type": "code",
   "execution_count": null,
   "metadata": {},
   "outputs": [],
   "source": [
    "form_entry = form_entry.drop_duplicates(subset=['email', 'course', 'language'], keep='last')"
   ]
  },
  {
   "cell_type": "code",
   "execution_count": null,
   "metadata": {},
   "outputs": [],
   "source": [
    "form_entry"
   ]
  },
  {
   "cell_type": "code",
   "execution_count": null,
   "metadata": {},
   "outputs": [],
   "source": [
    "dropped"
   ]
  },
  {
   "attachments": {},
   "cell_type": "markdown",
   "metadata": {},
   "source": [
    "#### **2. Clean some form_entry columns**"
   ]
  },
  {
   "cell_type": "code",
   "execution_count": null,
   "metadata": {},
   "outputs": [],
   "source": [
    " # form_entry = pd.read_csv('../sources/All_Form_Entries - Sheet1.csv', low_memory=False)"
   ]
  },
  {
   "cell_type": "code",
   "execution_count": null,
   "metadata": {},
   "outputs": [],
   "source": [
    "form_entry['course'] = form_entry['course'].replace(['full-stack-ft', 'full_stack', 'full-stack', 'software-engineering',\n",
    "                                         'coding-introduction', 'outcomes', 'Full Stack'], 'full-stack')"
   ]
  },
  {
   "cell_type": "code",
   "execution_count": null,
   "metadata": {},
   "outputs": [],
   "source": [
    "form_entry['course'] = form_entry['course'].replace(['machine-learning', 'machine-learning-enginnering', 'datascience-ml', 'datascience'], \n",
    "                                        'machine-learning-engineering')"
   ]
  },
  {
   "cell_type": "code",
   "execution_count": null,
   "metadata": {},
   "outputs": [],
   "source": [
    "form_entry['academy_id'] = np.where((form_entry['location'] == 'maracaibo-venezuela'),\n",
    "                                2.0, form_entry['academy_id'])\n",
    "form_entry['academy_id'] = np.where((form_entry['location'] == 'toronto-canada'),\n",
    "                                4.0, form_entry['academy_id'])\n",
    "form_entry['academy_id'] = np.where((form_entry['location'] == 'costa-rica') |\n",
    "                                (form_entry['location'] == 'sanjose-uruguay'),\n",
    "                                7.0, form_entry['academy_id'])"
   ]
  },
  {
   "cell_type": "code",
   "execution_count": null,
   "metadata": {},
   "outputs": [],
   "source": [
    "form_entry['fullname'] = form_entry['first_name'].fillna('') + str(' ') + form_entry['last_name'].fillna('')"
   ]
  },
  {
   "cell_type": "code",
   "execution_count": null,
   "metadata": {},
   "outputs": [],
   "source": [
    "form_entry['location'] = form_entry['location'].replace(['maracaibo'], 'maracaibo-venezuela')"
   ]
  },
  {
   "cell_type": "code",
   "execution_count": null,
   "metadata": {},
   "outputs": [],
   "source": [
    "form_entry['location'] = form_entry['location'].replace(['los-cortijos-caracas'], 'caracas-venezuela')"
   ]
  },
  {
   "cell_type": "code",
   "execution_count": null,
   "metadata": {},
   "outputs": [],
   "source": [
    "form_entry['location'] = form_entry['location'].replace(['lisboa-portugal'], 'lisbon-portugal')"
   ]
  },
  {
   "cell_type": "code",
   "execution_count": null,
   "metadata": {},
   "outputs": [],
   "source": [
    "form_entry['language'] = form_entry['language'].replace('us', 'en')"
   ]
  },
  {
   "cell_type": "code",
   "execution_count": null,
   "metadata": {},
   "outputs": [],
   "source": [
    "# Delete \"+00:00\"\n",
    "def correct_date(time):\n",
    "    if pd.isna(time):\n",
    "         return time\n",
    "    else:\n",
    "        sep = '+'\n",
    "        stripped = time.split(sep, 1)[0]\n",
    "        return stripped"
   ]
  },
  {
   "cell_type": "code",
   "execution_count": null,
   "metadata": {},
   "outputs": [],
   "source": [
    "form_entry['created_at'] = form_entry['created_at'].apply(correct_date)"
   ]
  },
  {
   "cell_type": "code",
   "execution_count": null,
   "metadata": {},
   "outputs": [],
   "source": [
    "form_entry['updated_at'] = form_entry['updated_at'].apply(correct_date)"
   ]
  },
  {
   "cell_type": "code",
   "execution_count": null,
   "metadata": {},
   "outputs": [],
   "source": [
    "form_entry['ac_expected_cohort_date'] = form_entry['ac_expected_cohort_date'].apply(correct_date)"
   ]
  },
  {
   "attachments": {},
   "cell_type": "markdown",
   "metadata": {},
   "source": [
    "#### **3. Identify upcoming cohorts and select only needed columns**"
   ]
  },
  {
   "cell_type": "code",
   "execution_count": null,
   "metadata": {},
   "outputs": [],
   "source": [
    "cohorts = pd.read_csv('../sources/cohorts.csv')"
   ]
  },
  {
   "cell_type": "code",
   "execution_count": null,
   "metadata": {},
   "outputs": [],
   "source": [
    "cohorts.columns"
   ]
  },
  {
   "cell_type": "code",
   "execution_count": null,
   "metadata": {},
   "outputs": [],
   "source": [
    "cohorts['academy_id'].info()"
   ]
  },
  {
   "cell_type": "code",
   "execution_count": null,
   "metadata": {},
   "outputs": [],
   "source": [
    "# Delete \"+00:00\"\n",
    "def correct_date(time):\n",
    "    if pd.isna(time):\n",
    "         return time\n",
    "    else:\n",
    "        sep = '+'\n",
    "        stripped = time.split(sep, 1)[0]\n",
    "        return stripped"
   ]
  },
  {
   "cell_type": "code",
   "execution_count": null,
   "metadata": {},
   "outputs": [],
   "source": [
    "cohorts['kickoff_date'] = cohorts['kickoff_date'].apply(correct_date)"
   ]
  },
  {
   "cell_type": "code",
   "execution_count": null,
   "metadata": {},
   "outputs": [],
   "source": [
    "cohorts['datetime_kickoff'] = pd.to_datetime(cohorts['kickoff_date'])"
   ]
  },
  {
   "cell_type": "code",
   "execution_count": null,
   "metadata": {},
   "outputs": [],
   "source": [
    "current_time = pd.Timestamp.now()"
   ]
  },
  {
   "cell_type": "code",
   "execution_count": null,
   "metadata": {},
   "outputs": [],
   "source": [
    "upcoming_cohorts = cohorts[cohorts['datetime_kickoff']>current_time]"
   ]
  },
  {
   "cell_type": "code",
   "execution_count": null,
   "metadata": {},
   "outputs": [],
   "source": [
    "upcoming_cohorts = upcoming_cohorts[upcoming_cohorts['never_ends']==False]"
   ]
  },
  {
   "cell_type": "code",
   "execution_count": null,
   "metadata": {},
   "outputs": [],
   "source": [
    "upcoming_cohorts = upcoming_cohorts[(upcoming_cohorts['stage']!='DELETED')]"
   ]
  },
  {
   "cell_type": "code",
   "execution_count": null,
   "metadata": {},
   "outputs": [],
   "source": [
    "upcoming_cohorts = upcoming_cohorts[['slug', 'academy_id', 'datetime_kickoff']]"
   ]
  },
  {
   "cell_type": "code",
   "execution_count": null,
   "metadata": {},
   "outputs": [],
   "source": [
    "upcoming_cohorts"
   ]
  },
  {
   "attachments": {},
   "cell_type": "markdown",
   "metadata": {},
   "source": [
    "#### **4. Complete ac_expected_cohort and add cohort_assignation_error**"
   ]
  },
  {
   "cell_type": "code",
   "execution_count": null,
   "metadata": {},
   "outputs": [],
   "source": [
    "form_entry['datetime_expected_cohort_date'] = pd.to_datetime(form_entry['ac_expected_cohort_date'])"
   ]
  },
  {
   "cell_type": "code",
   "execution_count": null,
   "metadata": {},
   "outputs": [],
   "source": [
    "def assign_expected_cohort(row, df=upcoming_cohorts):\n",
    "    \n",
    "    datetime_expected = row['datetime_expected_cohort_date']\n",
    "    expected_date = row['ac_expected_cohort_date']\n",
    "    ac_expected_cohort = row['ac_expected_cohort']\n",
    "    fe_academy_id = row['academy_id']\n",
    "    fe_course = row['course']\n",
    "\n",
    "    if pd.notnull(ac_expected_cohort):\n",
    "        return ac_expected_cohort\n",
    "    elif pd.isna(expected_date):\n",
    "        return np.nan\n",
    "    elif pd.isna(fe_academy_id):\n",
    "        return 'Missing academy'\n",
    "    elif pd.isna(fe_course):\n",
    "        return 'Missing course'\n",
    "    else:\n",
    "\n",
    "        df_filtered = df[df['academy_id']==int(fe_academy_id)]\n",
    "\n",
    "        if fe_course == 'machine-learning-engineering':\n",
    "            df_filtered = df_filtered[df_filtered['slug'].str.contains('-ml-')]\n",
    "        else:\n",
    "            df_filtered = df_filtered[~df_filtered['slug'].str.contains('-ml-')]\n",
    "\n",
    "        if df_filtered.empty:\n",
    "            return 'Missing upcoming cohort'\n",
    "        else:\n",
    "            datetime_expected = datetime_expected.replace(tzinfo=None)\n",
    "            df_filtered = df_filtered[df_filtered['datetime_kickoff'] >= datetime_expected]\n",
    "            df_filtered['time_diff'] = abs(df_filtered['datetime_kickoff'] - datetime_expected)    \n",
    "            min_idx = df_filtered['time_diff'].idxmin()\n",
    "            expected_cohort = df_filtered.loc[min_idx, 'slug']\n",
    "            return expected_cohort"
   ]
  },
  {
   "cell_type": "code",
   "execution_count": null,
   "metadata": {},
   "outputs": [],
   "source": [
    "form_entry['date_assigned_cohort'] = form_entry.apply(assign_expected_cohort, axis=1)"
   ]
  },
  {
   "cell_type": "code",
   "execution_count": null,
   "metadata": {},
   "outputs": [],
   "source": [
    "error_values = ['Missing academy', 'Missing course', 'Missing upcoming cohort']"
   ]
  },
  {
   "cell_type": "code",
   "execution_count": null,
   "metadata": {},
   "outputs": [],
   "source": [
    "form_entry.loc[form_entry['date_assigned_cohort'].isin(error_values), 'cohort_assignation_error'] = form_entry['date_assigned_cohort']"
   ]
  },
  {
   "cell_type": "code",
   "execution_count": null,
   "metadata": {},
   "outputs": [],
   "source": [
    "form_entry.loc[~form_entry['date_assigned_cohort'].isin(error_values), 'ac_expected_cohort'] = form_entry['date_assigned_cohort']"
   ]
  },
  {
   "cell_type": "code",
   "execution_count": null,
   "metadata": {},
   "outputs": [],
   "source": [
    "form_entry.loc[form_entry['date_assigned_cohort'].isna(), ['ac_expected_cohort', 'cohort_assignation_error']] = np.NaN"
   ]
  },
  {
   "cell_type": "code",
   "execution_count": null,
   "metadata": {},
   "outputs": [],
   "source": [
    "form_entry = form_entry.drop(columns=['date_assigned_cohort'])"
   ]
  },
  {
   "attachments": {},
   "cell_type": "markdown",
   "metadata": {},
   "source": [
    "#### **5. Look for inconsistencies between academy and location**"
   ]
  },
  {
   "cell_type": "code",
   "execution_count": null,
   "metadata": {},
   "outputs": [],
   "source": [
    "academies_alias = pd.read_csv('../sources/academies_alias.csv')"
   ]
  },
  {
   "cell_type": "code",
   "execution_count": null,
   "metadata": {},
   "outputs": [],
   "source": [
    "dict_locations = academies_alias.groupby('name')['slug'].apply(list).to_dict()"
   ]
  },
  {
   "cell_type": "code",
   "execution_count": null,
   "metadata": {},
   "outputs": [],
   "source": [
    "academies_alias = academies_alias.drop(columns=['slug', 'status'])"
   ]
  },
  {
   "cell_type": "code",
   "execution_count": null,
   "metadata": {},
   "outputs": [],
   "source": [
    "academies_alias = academies_alias.rename(columns={'name':'campus'})"
   ]
  },
  {
   "cell_type": "code",
   "execution_count": null,
   "metadata": {},
   "outputs": [],
   "source": [
    "academies_alias = academies_alias.drop_duplicates()"
   ]
  },
  {
   "cell_type": "code",
   "execution_count": null,
   "metadata": {},
   "outputs": [],
   "source": [
    "academies_alias"
   ]
  },
  {
   "cell_type": "code",
   "execution_count": null,
   "metadata": {},
   "outputs": [],
   "source": [
    "form_entry = form_entry.merge(academies_alias, on='academy_id', how='left')"
   ]
  },
  {
   "cell_type": "code",
   "execution_count": null,
   "metadata": {},
   "outputs": [],
   "source": [
    "def campus_check(row):\n",
    "    \n",
    "    campus = row['campus']\n",
    "    location = row['location']\n",
    "    \n",
    "    if pd.isna(campus):\n",
    "        return 'No campus assigned'\n",
    "    else:\n",
    "        if campus in dict_locations:\n",
    "            if location in dict_locations[campus]:\n",
    "                return 'Location matches campus'\n",
    "            else:\n",
    "                return 'Location does not match campus'\n",
    "        else:\n",
    "            return 'Unknown campus'"
   ]
  },
  {
   "cell_type": "code",
   "execution_count": null,
   "metadata": {},
   "outputs": [],
   "source": [
    "form_entry['campus_check'] = form_entry.apply(campus_check, axis=1)"
   ]
  },
  {
   "cell_type": "code",
   "execution_count": null,
   "metadata": {},
   "outputs": [],
   "source": [
    "form_entry.columns"
   ]
  },
  {
   "cell_type": "code",
   "execution_count": null,
   "metadata": {},
   "outputs": [],
   "source": [
    "form_entry.to_csv('../output/form_entry_processed.csv', index=False)"
   ]
  }
 ],
 "metadata": {
  "kernelspec": {
   "display_name": "Python 3 (ipykernel)",
   "language": "python",
   "name": "python3"
  },
  "language_info": {
   "codemirror_mode": {
    "name": "ipython",
    "version": 3
   },
   "file_extension": ".py",
   "mimetype": "text/x-python",
   "name": "python",
   "nbconvert_exporter": "python",
   "pygments_lexer": "ipython3",
   "version": "3.8.16 (default, Jan 10 2023, 15:23:34) \n[GCC 9.4.0]"
  },
  "vscode": {
   "interpreter": {
    "hash": "9ac03a0a6051494cc606d484d27d20fce22fb7b4d169f583271e11d5ba46a56e"
   }
  }
 },
 "nbformat": 4,
 "nbformat_minor": 2
}
