{
 "cells": [
  {
   "cell_type": "code",
   "execution_count": null,
   "metadata": {},
   "outputs": [],
   "source": [
    "%%capture\n",
    "pip install numpy pandas"
   ]
  },
  {
   "cell_type": "code",
   "execution_count": null,
   "metadata": {},
   "outputs": [],
   "source": [
    "import numpy as np\n",
    "import pandas as pd"
   ]
  },
  {
   "cell_type": "markdown",
   "metadata": {},
   "source": [
    "### **Cohorts and academies_alias**"
   ]
  },
  {
   "cell_type": "code",
   "execution_count": null,
   "metadata": {},
   "outputs": [],
   "source": [
    "cohorts = pd.read_csv('../sources/cohorts.csv')"
   ]
  },
  {
   "cell_type": "code",
   "execution_count": null,
   "metadata": {},
   "outputs": [],
   "source": [
    "cohorts"
   ]
  },
  {
   "cell_type": "code",
   "execution_count": null,
   "metadata": {},
   "outputs": [],
   "source": [
    "cohorts.info()"
   ]
  },
  {
   "cell_type": "code",
   "execution_count": null,
   "metadata": {},
   "outputs": [],
   "source": [
    "academies_alias = pd.read_csv('../sources/academies_alias.csv')"
   ]
  },
  {
   "cell_type": "code",
   "execution_count": null,
   "metadata": {},
   "outputs": [],
   "source": [
    "academies_alias.info()"
   ]
  },
  {
   "cell_type": "code",
   "execution_count": null,
   "metadata": {},
   "outputs": [],
   "source": [
    "academies_alias"
   ]
  },
  {
   "cell_type": "code",
   "execution_count": null,
   "metadata": {},
   "outputs": [],
   "source": [
    "academies_alias = academies_alias.rename(columns={'name':'campus'}).drop(columns=['slug', 'status']).drop_duplicates()"
   ]
  },
  {
   "cell_type": "code",
   "execution_count": null,
   "metadata": {},
   "outputs": [],
   "source": [
    "academies_alias"
   ]
  },
  {
   "cell_type": "code",
   "execution_count": null,
   "metadata": {},
   "outputs": [],
   "source": [
    "cohorts = cohorts.merge(academies_alias, how='left', on='academy_id')"
   ]
  },
  {
   "cell_type": "code",
   "execution_count": null,
   "metadata": {},
   "outputs": [],
   "source": [
    "cohorts"
   ]
  },
  {
   "cell_type": "code",
   "execution_count": null,
   "metadata": {},
   "outputs": [],
   "source": [
    "# Delete \"+00:00\"\n",
    "def correct_date(time):\n",
    "    if pd.isna(time):\n",
    "         return time\n",
    "    else:\n",
    "        sep = '+'\n",
    "        stripped = time.split(sep, 1)[0]\n",
    "        return stripped"
   ]
  },
  {
   "cell_type": "code",
   "execution_count": null,
   "metadata": {},
   "outputs": [],
   "source": [
    "cohorts['kickoff_date'] = cohorts['kickoff_date'].apply(correct_date)\n",
    "cohorts['ending_date'] = cohorts['ending_date'].apply(correct_date)\n",
    "cohorts['created_at'] = cohorts['created_at'].apply(correct_date)\n",
    "cohorts['updated_at'] = cohorts['updated_at'].apply(correct_date)"
   ]
  },
  {
   "cell_type": "code",
   "execution_count": null,
   "metadata": {},
   "outputs": [],
   "source": [
    "cohorts['datetime_kickoff'] = pd.to_datetime(cohorts['kickoff_date'])"
   ]
  },
  {
   "cell_type": "code",
   "execution_count": null,
   "metadata": {},
   "outputs": [],
   "source": [
    "current_time = pd.Timestamp.now()"
   ]
  },
  {
   "cell_type": "code",
   "execution_count": null,
   "metadata": {},
   "outputs": [],
   "source": [
    "upcoming_cohorts = cohorts[cohorts['datetime_kickoff']>current_time]"
   ]
  },
  {
   "cell_type": "code",
   "execution_count": null,
   "metadata": {},
   "outputs": [],
   "source": [
    "upcoming_cohorts = upcoming_cohorts[upcoming_cohorts['never_ends']==False]"
   ]
  },
  {
   "cell_type": "code",
   "execution_count": null,
   "metadata": {},
   "outputs": [],
   "source": [
    "upcoming_cohorts.info()"
   ]
  },
  {
   "cell_type": "code",
   "execution_count": null,
   "metadata": {},
   "outputs": [],
   "source": [
    "upcoming_cohorts['stage'].value_counts()"
   ]
  },
  {
   "cell_type": "code",
   "execution_count": null,
   "metadata": {},
   "outputs": [],
   "source": [
    "upcoming_cohorts = upcoming_cohorts[(upcoming_cohorts['stage']!='DELETED')]"
   ]
  },
  {
   "cell_type": "code",
   "execution_count": null,
   "metadata": {},
   "outputs": [],
   "source": [
    "upcoming_cohorts.columns"
   ]
  },
  {
   "cell_type": "code",
   "execution_count": null,
   "metadata": {},
   "outputs": [],
   "source": [
    "upcoming_cohorts"
   ]
  },
  {
   "cell_type": "markdown",
   "metadata": {},
   "source": [
    "### **Unconfirmed**"
   ]
  },
  {
   "cell_type": "code",
   "execution_count": null,
   "metadata": {},
   "outputs": [],
   "source": [
    "form_entry = pd.read_csv('../output/form_entry_processed.csv', low_memory=False)"
   ]
  },
  {
   "cell_type": "code",
   "execution_count": null,
   "metadata": {},
   "outputs": [],
   "source": [
    "form_entry.columns"
   ]
  },
  {
   "cell_type": "code",
   "execution_count": null,
   "metadata": {},
   "outputs": [],
   "source": [
    "form_entry['datetime_update'] = pd.to_datetime(form_entry['updated_at'])"
   ]
  },
  {
   "cell_type": "code",
   "execution_count": null,
   "metadata": {},
   "outputs": [],
   "source": [
    "dict_assigned = form_entry.groupby('ac_expected_cohort')['email'].apply(list).to_dict()"
   ]
  },
  {
   "cell_type": "markdown",
   "metadata": {},
   "source": [
    "### **Confirmed**"
   ]
  },
  {
   "cell_type": "code",
   "execution_count": null,
   "metadata": {},
   "outputs": [],
   "source": [
    "cohort_users = pd.read_csv('../sources/cohort_users.csv')"
   ]
  },
  {
   "cell_type": "code",
   "execution_count": null,
   "metadata": {},
   "outputs": [],
   "source": [
    "cohort_users.columns"
   ]
  },
  {
   "cell_type": "code",
   "execution_count": null,
   "metadata": {},
   "outputs": [],
   "source": [
    "cohorts_slugs = cohorts[['id', 'slug']].drop_duplicates()"
   ]
  },
  {
   "cell_type": "code",
   "execution_count": null,
   "metadata": {},
   "outputs": [],
   "source": [
    "cohort_users = cohort_users.merge(cohorts_slugs, left_on='cohort_id', right_on='id', how='left')\n",
    "cohort_users = cohort_users.rename(columns={'id_x':'id'})\n",
    "cohort_users = cohort_users.drop(columns=['id_y'])"
   ]
  },
  {
   "cell_type": "code",
   "execution_count": null,
   "metadata": {},
   "outputs": [],
   "source": [
    "auth = pd.read_csv('../sources/auth_user.csv')"
   ]
  },
  {
   "cell_type": "code",
   "execution_count": null,
   "metadata": {},
   "outputs": [],
   "source": [
    "cohort_users_auth = cohort_users.merge(auth, left_on='user_id', right_on='id', how='left')"
   ]
  },
  {
   "cell_type": "code",
   "execution_count": null,
   "metadata": {},
   "outputs": [],
   "source": [
    "cohort_users_auth.sample(3)"
   ]
  },
  {
   "cell_type": "code",
   "execution_count": null,
   "metadata": {},
   "outputs": [],
   "source": [
    "cohort_users_auth.columns"
   ]
  },
  {
   "cell_type": "code",
   "execution_count": null,
   "metadata": {},
   "outputs": [],
   "source": [
    "cohort_users_auth['role'].value_counts()"
   ]
  },
  {
   "cell_type": "code",
   "execution_count": null,
   "metadata": {},
   "outputs": [],
   "source": [
    "cohort_users_auth = cohort_users_auth[cohort_users_auth['role'].str.lower()=='student']"
   ]
  },
  {
   "cell_type": "code",
   "execution_count": null,
   "metadata": {},
   "outputs": [],
   "source": [
    "# Delete \"+00:00\"\n",
    "def correct_date(time):\n",
    "    if pd.isna(time):\n",
    "         return time\n",
    "    else:\n",
    "        sep = '+'\n",
    "        stripped = time.split(sep, 1)[0]\n",
    "        return stripped"
   ]
  },
  {
   "cell_type": "code",
   "execution_count": null,
   "metadata": {},
   "outputs": [],
   "source": [
    "cohort_users_auth['updated_at'] = cohort_users_auth['updated_at'].apply(correct_date)"
   ]
  },
  {
   "cell_type": "code",
   "execution_count": null,
   "metadata": {},
   "outputs": [],
   "source": [
    "cohort_users_auth['datetime_update'] = pd.to_datetime(cohort_users_auth['updated_at'])"
   ]
  },
  {
   "cell_type": "code",
   "execution_count": null,
   "metadata": {},
   "outputs": [],
   "source": [
    "dict_confirmed = cohort_users_auth.groupby('slug')['email'].apply(list).to_dict()"
   ]
  },
  {
   "cell_type": "markdown",
   "metadata": {},
   "source": [
    "**Create final dataframe**"
   ]
  },
  {
   "cell_type": "code",
   "execution_count": null,
   "metadata": {},
   "outputs": [],
   "source": [
    "list_slugs = list(dict_assigned.keys()) + list(dict_confirmed.keys())"
   ]
  },
  {
   "cell_type": "code",
   "execution_count": null,
   "metadata": {},
   "outputs": [],
   "source": [
    "list_slugs = list(set(list_slugs))"
   ]
  },
  {
   "cell_type": "code",
   "execution_count": null,
   "metadata": {},
   "outputs": [],
   "source": [
    "list_slugs"
   ]
  },
  {
   "cell_type": "code",
   "execution_count": null,
   "metadata": {},
   "outputs": [],
   "source": [
    "dict_slug_email = {}\n",
    "\n",
    "for slug in list_slugs:\n",
    "    \n",
    "    dict_slug_email[slug] = []\n",
    "\n",
    "    if slug in list(dict_assigned.keys()):\n",
    "        dict_slug_email[slug].extend(dict_assigned[slug])\n",
    "    \n",
    "    if slug in list(dict_confirmed.keys()):\n",
    "        dict_slug_email[slug].extend(dict_confirmed[slug])"
   ]
  },
  {
   "cell_type": "code",
   "execution_count": null,
   "metadata": {},
   "outputs": [],
   "source": [
    "dict_slug_email"
   ]
  },
  {
   "cell_type": "code",
   "execution_count": null,
   "metadata": {},
   "outputs": [],
   "source": [
    "list_slug_email = []\n",
    "for key, value in dict_slug_email.items():\n",
    "    for item in value:\n",
    "        list_slug_email.append((key, item))"
   ]
  },
  {
   "cell_type": "code",
   "execution_count": null,
   "metadata": {},
   "outputs": [],
   "source": [
    "df_slug_email = pd.DataFrame(list_slug_email, columns=['slug', 'email'])"
   ]
  },
  {
   "cell_type": "code",
   "execution_count": null,
   "metadata": {},
   "outputs": [],
   "source": [
    "df_slug_email"
   ]
  },
  {
   "cell_type": "code",
   "execution_count": null,
   "metadata": {},
   "outputs": [],
   "source": [
    "upcoming_cohorts_users = upcoming_cohorts.merge(df_slug_email, on='slug', how='left')"
   ]
  },
  {
   "cell_type": "code",
   "execution_count": null,
   "metadata": {},
   "outputs": [],
   "source": [
    "upcoming_cohorts_users"
   ]
  },
  {
   "cell_type": "markdown",
   "metadata": {},
   "source": [
    "Add columns related to assigned"
   ]
  },
  {
   "cell_type": "code",
   "execution_count": null,
   "metadata": {},
   "outputs": [],
   "source": [
    "def check_in_dict(row, dict_x):\n",
    "    if row['slug'] not in dict_x:\n",
    "        return False\n",
    "    else:\n",
    "        return row['email'] in dict_x[row['slug']]"
   ]
  },
  {
   "cell_type": "code",
   "execution_count": null,
   "metadata": {},
   "outputs": [],
   "source": [
    "upcoming_cohorts_users['assigned'] = upcoming_cohorts_users.apply(lambda row: check_in_dict(row, dict_assigned), axis=1)"
   ]
  },
  {
   "cell_type": "code",
   "execution_count": null,
   "metadata": {},
   "outputs": [],
   "source": [
    "upcoming_cohorts_users"
   ]
  },
  {
   "cell_type": "code",
   "execution_count": null,
   "metadata": {},
   "outputs": [],
   "source": [
    "df_assigned = upcoming_cohorts_users[upcoming_cohorts_users['assigned']==True]"
   ]
  },
  {
   "cell_type": "code",
   "execution_count": null,
   "metadata": {},
   "outputs": [],
   "source": [
    "df_assigned = pd.merge(df_assigned, form_entry, left_on=['slug', 'email'], right_on=['ac_expected_cohort', 'email'])"
   ]
  },
  {
   "cell_type": "code",
   "execution_count": null,
   "metadata": {},
   "outputs": [],
   "source": [
    "df_assigned.columns"
   ]
  },
  {
   "cell_type": "code",
   "execution_count": null,
   "metadata": {},
   "outputs": [],
   "source": [
    "grouped_assigned = df_assigned.groupby(['slug', 'email']).agg({'datetime_update': 'max', 'location': 'last', 'ac_deal_id':'last', 'ac_deal_owner_full_name':'last', 'created_at_y': 'last'})\n",
    "grouped_assigned = grouped_assigned.reset_index()"
   ]
  },
  {
   "cell_type": "code",
   "execution_count": null,
   "metadata": {},
   "outputs": [],
   "source": [
    "upcoming_cohorts_users = upcoming_cohorts_users.merge(grouped_assigned, on='email', how='left').drop(columns=['slug_y', 'datetime_update'])"
   ]
  },
  {
   "cell_type": "code",
   "execution_count": null,
   "metadata": {},
   "outputs": [],
   "source": [
    "upcoming_cohorts_users = upcoming_cohorts_users.rename(columns={'slug_x':'slug', 'created_at_y':'form_created_at', 'location':'expected_location', 'ac_deal_id':'deal_id', 'ac_deal_owner_full_name':'deal_owner'})"
   ]
  },
  {
   "cell_type": "code",
   "execution_count": null,
   "metadata": {},
   "outputs": [],
   "source": [
    "upcoming_cohorts_users"
   ]
  },
  {
   "cell_type": "markdown",
   "metadata": {},
   "source": [
    "Add columns related to confirmed"
   ]
  },
  {
   "cell_type": "code",
   "execution_count": null,
   "metadata": {},
   "outputs": [],
   "source": [
    "upcoming_cohorts_users['confirmed'] = upcoming_cohorts_users.apply(lambda row: check_in_dict(row, dict_confirmed), axis=1)"
   ]
  },
  {
   "cell_type": "code",
   "execution_count": null,
   "metadata": {},
   "outputs": [],
   "source": [
    "df_confirmed = upcoming_cohorts_users[upcoming_cohorts_users['confirmed']==True]"
   ]
  },
  {
   "cell_type": "code",
   "execution_count": null,
   "metadata": {},
   "outputs": [],
   "source": [
    "# df_confirmed = pd.merge(upcoming_cohorts_users, cohort_users_auth, left_on=['slug', 'email'], right_on=['slug', 'email'])\n",
    "df_confirmed = pd.merge(df_confirmed, cohort_users_auth, left_on=['slug', 'email'], right_on=['slug', 'email'])"
   ]
  },
  {
   "cell_type": "code",
   "execution_count": null,
   "metadata": {},
   "outputs": [],
   "source": [
    "df_confirmed.columns"
   ]
  },
  {
   "cell_type": "code",
   "execution_count": null,
   "metadata": {},
   "outputs": [],
   "source": [
    "grouped_confirmed = df_confirmed.groupby(['slug', 'email']).agg({'datetime_update': 'max', 'educational_status': 'last', 'created_at_y': 'last'})\n",
    "grouped_confirmed = grouped_confirmed.reset_index()"
   ]
  },
  {
   "cell_type": "code",
   "execution_count": null,
   "metadata": {},
   "outputs": [],
   "source": [
    "upcoming_cohorts_users = upcoming_cohorts_users.merge(grouped_confirmed, on='email', how='left')"
   ]
  },
  {
   "cell_type": "code",
   "execution_count": null,
   "metadata": {},
   "outputs": [],
   "source": [
    "upcoming_cohorts_users = upcoming_cohorts_users.rename(columns={'slug_x':'slug', 'created_at_y':'inscription_created_at'})"
   ]
  },
  {
   "cell_type": "code",
   "execution_count": null,
   "metadata": {},
   "outputs": [],
   "source": [
    "upcoming_cohorts_users"
   ]
  },
  {
   "cell_type": "markdown",
   "metadata": {},
   "source": [
    "**Cleaning upcoming_cohorts**"
   ]
  },
  {
   "cell_type": "code",
   "execution_count": null,
   "metadata": {},
   "outputs": [],
   "source": [
    "upcoming_cohorts_users['days_until_kickoff'] = (upcoming_cohorts_users['datetime_kickoff'] - pd.Timestamp.now()).dt.days"
   ]
  },
  {
   "cell_type": "code",
   "execution_count": null,
   "metadata": {},
   "outputs": [],
   "source": [
    "upcoming_cohorts_users['form_created_at'] = upcoming_cohorts_users['form_created_at'].apply(correct_date)\n",
    "upcoming_cohorts_users['inscription_created_at'] = upcoming_cohorts_users['inscription_created_at'].apply(correct_date)"
   ]
  },
  {
   "cell_type": "code",
   "execution_count": null,
   "metadata": {},
   "outputs": [],
   "source": [
    "upcoming_cohorts_users['form_created_at'] = pd.to_datetime(upcoming_cohorts_users['form_created_at'])\n",
    "upcoming_cohorts_users['inscription_created_at'] = pd.to_datetime(upcoming_cohorts_users['inscription_created_at'])"
   ]
  },
  {
   "cell_type": "code",
   "execution_count": null,
   "metadata": {},
   "outputs": [],
   "source": [
    "upcoming_cohorts_users['days_since_form_creation'] = (pd.Timestamp.now()- upcoming_cohorts_users['form_created_at']).dt.days\n",
    "upcoming_cohorts_users['days_since_inscription'] = (pd.Timestamp.now()- upcoming_cohorts_users['inscription_created_at']).dt.days"
   ]
  },
  {
   "cell_type": "code",
   "execution_count": null,
   "metadata": {},
   "outputs": [],
   "source": [
    "def create_link(row):\n",
    "    if pd.isnull(row['deal_id']):\n",
    "        return np.nan\n",
    "    else:\n",
    "        return 'https://4geeks.activehosted.com/app/deals/' + str(int(row['deal_id']))"
   ]
  },
  {
   "cell_type": "code",
   "execution_count": null,
   "metadata": {},
   "outputs": [],
   "source": [
    "upcoming_cohorts_users['ac_deal_link'] = upcoming_cohorts_users.apply(create_link, axis=1)"
   ]
  },
  {
   "cell_type": "code",
   "execution_count": null,
   "metadata": {},
   "outputs": [],
   "source": [
    "upcoming_cohorts_users['assigned'] = np.where(upcoming_cohorts_users['assigned'] == True, 1, 0)"
   ]
  },
  {
   "cell_type": "code",
   "execution_count": null,
   "metadata": {},
   "outputs": [],
   "source": [
    "upcoming_cohorts_users['confirmed'] = np.where(upcoming_cohorts_users['confirmed'] == True, 1, 0)"
   ]
  },
  {
   "cell_type": "code",
   "execution_count": null,
   "metadata": {},
   "outputs": [],
   "source": [
    "upcoming_cohorts_users['unconfirmed'] = upcoming_cohorts_users['assigned']"
   ]
  },
  {
   "cell_type": "code",
   "execution_count": null,
   "metadata": {},
   "outputs": [],
   "source": [
    "upcoming_cohorts_users.loc[upcoming_cohorts_users['confirmed'] == 1, 'unconfirmed'] = 0"
   ]
  },
  {
   "cell_type": "code",
   "execution_count": null,
   "metadata": {},
   "outputs": [],
   "source": [
    "upcoming_cohorts_users = upcoming_cohorts_users[['id', 'slug', 'name', 'stage', 'language', 'academy_id', 'campus', 'datetime_kickoff', 'days_until_kickoff', 'email', 'assigned', 'expected_location', 'ac_deal_link', 'deal_owner', 'form_created_at', 'days_since_form_creation', 'unconfirmed', 'confirmed', 'educational_status', 'inscription_created_at', 'days_since_inscription']]"
   ]
  },
  {
   "cell_type": "code",
   "execution_count": null,
   "metadata": {},
   "outputs": [],
   "source": [
    "upcoming_cohorts_users = upcoming_cohorts_users.drop_duplicates()"
   ]
  },
  {
   "cell_type": "code",
   "execution_count": null,
   "metadata": {},
   "outputs": [],
   "source": [
    "upcoming_cohorts_users = upcoming_cohorts_users.sort_values(by=['days_until_kickoff'], ascending=True)"
   ]
  },
  {
   "cell_type": "code",
   "execution_count": null,
   "metadata": {},
   "outputs": [],
   "source": [
    "upcoming_cohorts_users"
   ]
  },
  {
   "cell_type": "code",
   "execution_count": null,
   "metadata": {},
   "outputs": [],
   "source": [
    "upcoming_cohorts_users.to_csv('../output/upcoming_cohorts_users.csv')"
   ]
  }
 ],
 "metadata": {
  "kernelspec": {
   "display_name": "Python 3 (ipykernel)",
   "language": "python",
   "name": "python3"
  },
  "language_info": {
   "codemirror_mode": {
    "name": "ipython",
    "version": 3
   },
   "file_extension": ".py",
   "mimetype": "text/x-python",
   "name": "python",
   "nbconvert_exporter": "python",
   "pygments_lexer": "ipython3",
   "version": "3.8.16 (default, Jan 10 2023, 15:23:34) \n[GCC 9.4.0]"
  },
  "vscode": {
   "interpreter": {
    "hash": "9ac03a0a6051494cc606d484d27d20fce22fb7b4d169f583271e11d5ba46a56e"
   }
  }
 },
 "nbformat": 4,
 "nbformat_minor": 2
}
